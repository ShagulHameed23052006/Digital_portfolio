{
  "nbformat": 4,
  "nbformat_minor": 0,
  "metadata": {
    "colab": {
      "provenance": [],
      "authorship_tag": "ABX9TyPuyaJQz5UBukMc8xRUvVC6",
      "include_colab_link": true
    },
    "kernelspec": {
      "name": "python3",
      "display_name": "Python 3"
    },
    "language_info": {
      "name": "python"
    }
  },
  "cells": [
    {
      "cell_type": "markdown",
      "metadata": {
        "id": "view-in-github",
        "colab_type": "text"
      },
      "source": [
        "<a href=\"https://colab.research.google.com/github/ShagulHameed23052006/Digital_portfolio/blob/main/Encapsulation.ipynb\" target=\"_parent\"><img src=\"https://colab.research.google.com/assets/colab-badge.svg\" alt=\"Open In Colab\"/></a>"
      ]
    },
    {
      "cell_type": "markdown",
      "source": [],
      "metadata": {
        "id": "ImlXzxRHHuju"
      }
    },
    {
      "cell_type": "markdown",
      "source": [
        "Encapsulation"
      ],
      "metadata": {
        "id": "TqIgH7NlHvn6"
      }
    },
    {
      "cell_type": "code",
      "source": [
        "# Encapsulated class: Person\n",
        "class Person:\n",
        "    def __init__(self, name, age):\n",
        "        self.__name = name  # Private attribute\n",
        "        self.__age = age   # Private attribute\n",
        "\n",
        "    # Getter method for name\n",
        "    def get_name(self):\n",
        "        return self.__name\n",
        "\n",
        "    # Setter method for name\n",
        "    def set_name(self, name):\n",
        "        if isinstance(name, str):\n",
        "            self.__name = name\n",
        "        else:\n",
        "            print(\"Invalid name. Please enter a string.\")\n",
        "\n",
        "    # Getter method for age\n",
        "    def get_age(self):\n",
        "        return self.__age\n",
        "\n",
        "    # Setter method for age\n",
        "    def set_age(self, age):\n",
        "        if isinstance(age, int) and age > 0:\n",
        "            self.__age = age\n",
        "        else:\n",
        "            print(\"Invalid age. Please enter a positive integer.\")\n",
        "\n",
        "# Create an instance\n",
        "person = Person(\"Jonny dep\", 45)\n",
        "\n",
        "# Accessing attributes using getter methods\n",
        "print(\"Name:\", person.get_name())\n",
        "print(\"Age:\", person.get_age())\n",
        "\n",
        "# Modifying attributes using setter methods\n",
        "person.set_name(\"Jonn dep\")\n",
        "person.set_age(46)\n",
        "\n",
        "# Accessing modified attributes\n",
        "print(\"Updated Name:\", person.get_name())\n",
        "print(\"Updated Age:\", person.get_age())\n",
        "\n",
        "# Attempting to set invalid values\n",
        "person.set_name(123)\n",
        "person.set_age(-5)"
      ],
      "metadata": {
        "colab": {
          "base_uri": "https://localhost:8080/"
        },
        "id": "5BoFVEmXHxIX",
        "outputId": "449ac47b-9b28-49e9-eff5-e89327f5f8b9"
      },
      "execution_count": 18,
      "outputs": [
        {
          "output_type": "stream",
          "name": "stdout",
          "text": [
            "Name: Jonny dep\n",
            "Age: 45\n",
            "Updated Name: Jonn dep\n",
            "Updated Age: 46\n",
            "Invalid name. Please enter a string.\n",
            "Invalid age. Please enter a positive integer.\n"
          ]
        }
      ]
    }
  ]
}