{
  "nbformat": 4,
  "nbformat_minor": 0,
  "metadata": {
    "colab": {
      "provenance": [],
      "authorship_tag": "ABX9TyNan8z7Lsp9VSwy/jdX+Kzg",
      "include_colab_link": true
    },
    "kernelspec": {
      "name": "python3",
      "display_name": "Python 3"
    },
    "language_info": {
      "name": "python"
    }
  },
  "cells": [
    {
      "cell_type": "markdown",
      "metadata": {
        "id": "view-in-github",
        "colab_type": "text"
      },
      "source": [
        "<a href=\"https://colab.research.google.com/github/ShagulHameed23052006/Digital_portfolio/blob/main/Comparison%20operator.ipynb\" target=\"_parent\"><img src=\"https://colab.research.google.com/assets/colab-badge.svg\" alt=\"Open In Colab\"/></a>"
      ]
    },
    {
      "cell_type": "markdown",
      "source": [
        "Comparison operator"
      ],
      "metadata": {
        "id": "pSCzAmELFrIM"
      }
    },
    {
      "cell_type": "code",
      "source": [
        "# Declare variables\n",
        "A = 20\n",
        "B = 5\n",
        "\n",
        "# Comparison operators\n",
        "print(\"A == B (Equal):\", A == B)\n",
        "print(\"A != B (Not Equal):\", A != B)\n",
        "print(\"A > B (Greater Than):\", A > B)\n",
        "print(\"A < B (Less Than):\", A < B)\n",
        "print(\"A >= B (Greater Than or Equal):\", A >= B)\n",
        "print(\"A <= B (Less Than or Equal):\", A <= B)"
      ],
      "metadata": {
        "colab": {
          "base_uri": "https://localhost:8080/"
        },
        "id": "vfbY2G6qFtHY",
        "outputId": "bc5beba6-9b8f-4962-bdfb-bc6fab7ec441"
      },
      "execution_count": 11,
      "outputs": [
        {
          "output_type": "stream",
          "name": "stdout",
          "text": [
            "A == B (Equal): False\n",
            "A != B (Not Equal): True\n",
            "A > B (Greater Than): True\n",
            "A < B (Less Than): False\n",
            "A >= B (Greater Than or Equal): True\n",
            "A <= B (Less Than or Equal): False\n"
          ]
        }
      ]
    }
  ]
}