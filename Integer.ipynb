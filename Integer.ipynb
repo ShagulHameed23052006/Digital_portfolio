{
  "nbformat": 4,
  "nbformat_minor": 0,
  "metadata": {
    "colab": {
      "provenance": [],
      "authorship_tag": "ABX9TyOUU7g29XtkxbGqTcrImfB5",
      "include_colab_link": true
    },
    "kernelspec": {
      "name": "python3",
      "display_name": "Python 3"
    },
    "language_info": {
      "name": "python"
    }
  },
  "cells": [
    {
      "cell_type": "markdown",
      "metadata": {
        "id": "view-in-github",
        "colab_type": "text"
      },
      "source": [
        "<a href=\"https://colab.research.google.com/github/ShagulHameed23052006/Digital_portfolio/blob/main/Integer.ipynb\" target=\"_parent\"><img src=\"https://colab.research.google.com/assets/colab-badge.svg\" alt=\"Open In Colab\"/></a>"
      ]
    },
    {
      "cell_type": "markdown",
      "source": [
        "Integer"
      ],
      "metadata": {
        "id": "wfmM74MBD86W"
      }
    },
    {
      "cell_type": "code",
      "source": [
        "# Declare integer variables\n",
        "a = 20\n",
        "b = 10\n",
        "\n",
        "# Arithmetic operations\n",
        "print(\"Addition:\", a + b)\n",
        "print(\"Subtraction:\", a - b)\n",
        "print(\"Multiplication:\", a * b)\n",
        "print(\"Division:\", a / b)\n",
        "print(\"Integer Division:\", a // b)\n",
        "print(\"Modulus:\", a % b)\n",
        "\n",
        "# Comparison operations\n",
        "print(\"Equal:\", a == b)\n",
        "print(\"Not Equal:\", a != b)\n",
        "print(\"Greater Than:\", a > b)\n",
        "print(\"Less Than:\", a < b)"
      ],
      "metadata": {
        "colab": {
          "base_uri": "https://localhost:8080/"
        },
        "id": "SxudaKnDD-ey",
        "outputId": "dab440d6-9ea4-4843-e50c-e6e0b4dc2c8c"
      },
      "execution_count": 1,
      "outputs": [
        {
          "output_type": "stream",
          "name": "stdout",
          "text": [
            "Addition: 30\n",
            "Subtraction: 10\n",
            "Multiplication: 200\n",
            "Division: 2.0\n",
            "Integer Division: 2\n",
            "Modulus: 0\n",
            "Equal: False\n",
            "Not Equal: True\n",
            "Greater Than: True\n",
            "Less Than: False\n"
          ]
        }
      ]
    }
  ]
}