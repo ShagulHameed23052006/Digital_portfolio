{
  "nbformat": 4,
  "nbformat_minor": 0,
  "metadata": {
    "colab": {
      "provenance": [],
      "authorship_tag": "ABX9TyOBALUpqQrpbyY0Ah5+DvjV",
      "include_colab_link": true
    },
    "kernelspec": {
      "name": "python3",
      "display_name": "Python 3"
    },
    "language_info": {
      "name": "python"
    }
  },
  "cells": [
    {
      "cell_type": "markdown",
      "metadata": {
        "id": "view-in-github",
        "colab_type": "text"
      },
      "source": [
        "<a href=\"https://colab.research.google.com/github/ShagulHameed23052006/Digital_portfolio/blob/main/Arithmetic%20operator.ipynb\" target=\"_parent\"><img src=\"https://colab.research.google.com/assets/colab-badge.svg\" alt=\"Open In Colab\"/></a>"
      ]
    },
    {
      "cell_type": "markdown",
      "source": [
        "Arithmetic operator"
      ],
      "metadata": {
        "id": "N78vASIBFUJ-"
      }
    },
    {
      "cell_type": "code",
      "source": [
        "# Declare variables\n",
        "num1 = 14\n",
        "num2 = 8\n",
        "\n",
        "# Addition\n",
        "addition = num1 + num2\n",
        "print(\"Addition:\", num1, \"+\", num2, \"=\", addition)\n",
        "\n",
        "# Subtraction\n",
        "subtraction = num1 - num2\n",
        "print(\"Subtraction:\", num1, \"-\", num2, \"=\", subtraction)"
      ],
      "metadata": {
        "colab": {
          "base_uri": "https://localhost:8080/"
        },
        "id": "IYEmuO9FFWfD",
        "outputId": "eb7796ff-0ffc-47d1-cdde-b162dc67f83f"
      },
      "execution_count": 6,
      "outputs": [
        {
          "output_type": "stream",
          "name": "stdout",
          "text": [
            "Addition: 14 + 8 = 22\n",
            "Subtraction: 14 - 8 = 6\n"
          ]
        }
      ]
    }
  ]
}