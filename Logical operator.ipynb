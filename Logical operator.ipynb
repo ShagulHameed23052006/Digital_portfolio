{
  "nbformat": 4,
  "nbformat_minor": 0,
  "metadata": {
    "colab": {
      "provenance": [],
      "authorship_tag": "ABX9TyMdSQeAxXzEf4O6FXPhxs0i",
      "include_colab_link": true
    },
    "kernelspec": {
      "name": "python3",
      "display_name": "Python 3"
    },
    "language_info": {
      "name": "python"
    }
  },
  "cells": [
    {
      "cell_type": "markdown",
      "metadata": {
        "id": "view-in-github",
        "colab_type": "text"
      },
      "source": [
        "<a href=\"https://colab.research.google.com/github/ShagulHameed23052006/Digital_portfolio/blob/main/Logical%20operator.ipynb\" target=\"_parent\"><img src=\"https://colab.research.google.com/assets/colab-badge.svg\" alt=\"Open In Colab\"/></a>"
      ]
    },
    {
      "cell_type": "markdown",
      "source": [
        "Logical operator"
      ],
      "metadata": {
        "id": "pSCzAmELFrIM"
      }
    },
    {
      "cell_type": "code",
      "source": [
        "# Declare variables\n",
        "A = True\n",
        "B = False\n",
        "\n",
        "# Logical AND\n",
        "print(\"A and B:\", A and B)\n",
        "\n",
        "# Logical OR\n",
        "print(\"A or B:\", A or B)\n",
        "\n",
        "# Logical NOT\n",
        "print(\"not A:\", not A)\n",
        "print(\"not B:\", not B)"
      ],
      "metadata": {
        "colab": {
          "base_uri": "https://localhost:8080/"
        },
        "id": "vfbY2G6qFtHY",
        "outputId": "051a2799-a0eb-4186-f3ec-dc11ca4b470b"
      },
      "execution_count": 9,
      "outputs": [
        {
          "output_type": "stream",
          "name": "stdout",
          "text": [
            "A and B: False\n",
            "A or B: True\n",
            "not A: False\n",
            "not B: True\n"
          ]
        }
      ]
    }
  ]
}