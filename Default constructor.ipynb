{
  "nbformat": 4,
  "nbformat_minor": 0,
  "metadata": {
    "colab": {
      "provenance": [],
      "authorship_tag": "ABX9TyNZnBHIM2F31+uJ4SMb2Hos",
      "include_colab_link": true
    },
    "kernelspec": {
      "name": "python3",
      "display_name": "Python 3"
    },
    "language_info": {
      "name": "python"
    }
  },
  "cells": [
    {
      "cell_type": "markdown",
      "metadata": {
        "id": "view-in-github",
        "colab_type": "text"
      },
      "source": [
        "<a href=\"https://colab.research.google.com/github/ShagulHameed23052006/Digital_portfolio/blob/main/Default%20constructor.ipynb\" target=\"_parent\"><img src=\"https://colab.research.google.com/assets/colab-badge.svg\" alt=\"Open In Colab\"/></a>"
      ]
    },
    {
      "cell_type": "markdown",
      "source": [
        "Default constructor"
      ],
      "metadata": {
        "id": "5INkLQ89KWDc"
      }
    },
    {
      "cell_type": "code",
      "source": [
        "# Class: Vehicle\n",
        "class Vehicle:\n",
        "    # Default constructor\n",
        "    def __init__(self):\n",
        "        self.type = \"Unknown\"\n",
        "        self.brand = \"Unknown\"\n",
        "        self.model = \"Unknown\"\n",
        "        print(\"Default vehicle created.\")\n",
        "\n",
        "    # Method to display details\n",
        "    def display_details(self):\n",
        "        print(f\"Type: {self.type}\")\n",
        "        print(f\"Brand: {self.brand}\")\n",
        "        print(f\"Model: {self.model}\")\n",
        "\n",
        "# Create an instance\n",
        "vehicle = Vehicle()\n",
        "\n",
        "# Display details\n",
        "vehicle.display_details()"
      ],
      "metadata": {
        "colab": {
          "base_uri": "https://localhost:8080/"
        },
        "id": "KmTAwn4FKbB8",
        "outputId": "4d05cc87-8564-4f66-e1a7-368b4fa7816f"
      },
      "execution_count": 29,
      "outputs": [
        {
          "output_type": "stream",
          "name": "stdout",
          "text": [
            "Default vehicle created.\n",
            "Type: Unknown\n",
            "Brand: Unknown\n",
            "Model: Unknown\n"
          ]
        }
      ]
    }
  ]
}