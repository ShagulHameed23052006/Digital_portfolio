{
  "nbformat": 4,
  "nbformat_minor": 0,
  "metadata": {
    "colab": {
      "provenance": [],
      "authorship_tag": "ABX9TyMSmYsIxfg9z0CSSQ9qQgVm",
      "include_colab_link": true
    },
    "kernelspec": {
      "name": "python3",
      "display_name": "Python 3"
    },
    "language_info": {
      "name": "python"
    }
  },
  "cells": [
    {
      "cell_type": "markdown",
      "metadata": {
        "id": "view-in-github",
        "colab_type": "text"
      },
      "source": [
        "<a href=\"https://colab.research.google.com/github/ShagulHameed23052006/Digital_portfolio/blob/main/String.ipynb\" target=\"_parent\"><img src=\"https://colab.research.google.com/assets/colab-badge.svg\" alt=\"Open In Colab\"/></a>"
      ]
    },
    {
      "cell_type": "markdown",
      "source": [],
      "metadata": {
        "id": "4TbLxHxoCEkM"
      }
    },
    {
      "cell_type": "markdown",
      "source": [
        "String"
      ],
      "metadata": {
        "id": "kuLlYEQ0CFsU"
      }
    },
    {
      "cell_type": "code",
      "source": [
        "# Declare a string variable\n",
        "name = \"jonny dep\"\n",
        "\n",
        "# String operations\n",
        "print(\"Original String:\", name)\n",
        "print(\"Uppercase:\", name.upper())\n",
        "print(\"Lowercase:\", name.lower())\n",
        "print(\"Length:\", len(name))\n",
        "print(\"Substring:\", name[0:4])  # Extract \"John\"\n",
        "print(\"Concatenation:\", name + \" is a developer\")\n",
        "\n",
        "# String formatting\n",
        "age = 30\n",
        "print(f\"{name} is {age} years old.\")"
      ],
      "metadata": {
        "colab": {
          "base_uri": "https://localhost:8080/"
        },
        "id": "MzpMueLtCL6K",
        "outputId": "667578a1-9e7f-4eee-c2dd-f85d672db114"
      },
      "execution_count": 1,
      "outputs": [
        {
          "output_type": "stream",
          "name": "stdout",
          "text": [
            "Original String: jonny dep\n",
            "Uppercase: JONNY DEP\n",
            "Lowercase: jonny dep\n",
            "Length: 9\n",
            "Substring: jonn\n",
            "Concatenation: jonny dep is a developer\n",
            "jonny dep is 30 years old.\n"
          ]
        }
      ]
    }
  ]
}