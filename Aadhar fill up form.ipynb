{
  "nbformat": 4,
  "nbformat_minor": 0,
  "metadata": {
    "colab": {
      "provenance": [],
      "authorship_tag": "ABX9TyOIIsfLRzoWZU65YHKxhIyq",
      "include_colab_link": true
    },
    "kernelspec": {
      "name": "python3",
      "display_name": "Python 3"
    },
    "language_info": {
      "name": "python"
    }
  },
  "cells": [
    {
      "cell_type": "markdown",
      "metadata": {
        "id": "view-in-github",
        "colab_type": "text"
      },
      "source": [
        "<a href=\"https://colab.research.google.com/github/ShagulHameed23052006/Digital_portfolio/blob/main/Aadhar%20fill%20up%20form.ipynb\" target=\"_parent\"><img src=\"https://colab.research.google.com/assets/colab-badge.svg\" alt=\"Open In Colab\"/></a>"
      ]
    },
    {
      "cell_type": "markdown",
      "source": [
        "Adhar card form fill up"
      ],
      "metadata": {
        "id": "hK6WRqV8Lj9B"
      }
    },
    {
      "cell_type": "code",
      "source": [
        "class AadhaarRegistration:\n",
        "    def __init__(self):\n",
        "        self.name = \"\"\n",
        "        self.date_of_birth = \"\"\n",
        "        self.address = \"\"\n",
        "        self.mobile_number = \"\"\n",
        "        self.email_id = \"\"\n",
        "\n",
        "    def fill_form(self):\n",
        "        self.name = input(\"Enter your full name: \")\n",
        "        self.date_of_birth = input(\"Enter your date of birth (DD/MM/YYYY): \")\n",
        "        self.address = input(\"Enter your address: \")\n",
        "        self.mobile_number = input(\"Enter your mobile number: \")\n",
        "        self.email_id = input(\"Enter your email ID: \")\n",
        "\n",
        "    def display_details(self):\n",
        "        print(\"\\nAadhaar Registration Details:\")\n",
        "        print(f\"Name: {self.name}\")\n",
        "        print(f\"Date of Birth: {self.date_of_birth}\")\n",
        "        print(f\"Address: {self.address}\")\n",
        "        print(f\"Mobile Number: {self.mobile_number}\")\n",
        "        print(f\"Email ID: {self.email_id}\")\n",
        "\n",
        "def main():\n",
        "    registration = AadhaarRegistration()\n",
        "    print(\"Aadhaar Registration Form\")\n",
        "    registration.fill_form()\n",
        "    registration.display_details()\n",
        "\n",
        "if __name__ == \"__main__\":\n",
        "    main()"
      ],
      "metadata": {
        "colab": {
          "base_uri": "https://localhost:8080/"
        },
        "id": "nldjbAc4Lmos",
        "outputId": "ff7d1450-289b-4513-98d6-8c0937c49b06"
      },
      "execution_count": 34,
      "outputs": [
        {
          "output_type": "stream",
          "name": "stdout",
          "text": [
            "Aadhaar Registration Form\n",
            "Enter your full name: K.Shagul Hameed \n",
            "Enter your date of birth (DD/MM/YYYY): 23/06l2006\n",
            "Enter your address: XXXXXX\n",
            "Enter your mobile number: 9345214076\n",
            "Enter your email ID: shagul370@gmail.com\n",
            "\n",
            "Aadhaar Registration Details:\n",
            "Name: K.Shagul Hameed \n",
            "Date of Birth: 23/06l2006\n",
            "Address: XXXXXX\n",
            "Mobile Number: 9345214076\n",
            "Email ID: shagul370@gmail.com\n"
          ]
        }
      ]
    }
  ]
}