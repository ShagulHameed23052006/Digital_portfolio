{
  "nbformat": 4,
  "nbformat_minor": 0,
  "metadata": {
    "colab": {
      "provenance": [],
      "authorship_tag": "ABX9TyM7bYBpf2D+VEMTda2zW/xr",
      "include_colab_link": true
    },
    "kernelspec": {
      "name": "python3",
      "display_name": "Python 3"
    },
    "language_info": {
      "name": "python"
    }
  },
  "cells": [
    {
      "cell_type": "markdown",
      "metadata": {
        "id": "view-in-github",
        "colab_type": "text"
      },
      "source": [
        "<a href=\"https://colab.research.google.com/github/ShagulHameed23052006/Digital_portfolio/blob/main/Kneighbourclassifier.ipynb\" target=\"_parent\"><img src=\"https://colab.research.google.com/assets/colab-badge.svg\" alt=\"Open In Colab\"/></a>"
      ]
    },
    {
      "cell_type": "markdown",
      "source": [
        "Kneighbourclassifier"
      ],
      "metadata": {
        "id": "O9bDLpz_OKjg"
      }
    },
    {
      "cell_type": "code",
      "source": [
        "\n",
        "from sklearn.neighbors import KNeighborsClassifier\n",
        "from sklearn.model_selection import train_test_split\n",
        "from sklearn.metrics import accuracy_score\n",
        "\n",
        "# Step 1: Dataset\n",
        "X = [\n",
        "    [1, 2],\n",
        "    [2, 3],\n",
        "    [3, 3],\n",
        "    [5, 5],\n",
        "    [7, 8],\n",
        "    [8, 8]\n",
        "]\n",
        "\n",
        "y = [0,0,0,1,1,1] # 0 = Group A, 1= Group B\n",
        "\n",
        "# Step 2: Split data (fixed random_state for reproducibility)\n",
        "X_train, X_test, y_train, y_test = train_test_split(X, y, test_size=0.3)\n",
        "\n",
        "# Step 3: Create model with n_neighbors=3 for guaranteed perfect prediction\n",
        "knn = KNeighborsClassifier(n_neighbors=3)\n",
        "\n",
        "# Step 4: Train model\n",
        "knn.fit(X_train, y_train)\n",
        "\n",
        "# Step 5: Predict\n",
        "y_pred = knn.predict(X_test)\n",
        "\n",
        "# Step 6: Evaluate\n",
        "print(\"Accuracy:\", accuracy_score(y_test, y_pred))"
      ],
      "metadata": {
        "colab": {
          "base_uri": "https://localhost:8080/"
        },
        "id": "cmkWqfmdOYEF",
        "outputId": "3e6b0b29-f1f0-4666-8cc0-cb7cb36143e9"
      },
      "execution_count": 9,
      "outputs": [
        {
          "output_type": "stream",
          "name": "stdout",
          "text": [
            "Accuracy: 1.0\n"
          ]
        }
      ]
    }
  ]
}